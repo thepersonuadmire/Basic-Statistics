{
  "nbformat": 4,
  "nbformat_minor": 0,
  "metadata": {
    "colab": {
      "provenance": [],
      "toc_visible": true,
      "authorship_tag": "ABX9TyOREsz75oyRX38xWo9Z7efm",
      "include_colab_link": true
    },
    "kernelspec": {
      "name": "python3",
      "display_name": "Python 3"
    },
    "language_info": {
      "name": "python"
    }
  },
  "cells": [
    {
      "cell_type": "markdown",
      "metadata": {
        "id": "view-in-github",
        "colab_type": "text"
      },
      "source": [
        "<a href=\"https://colab.research.google.com/github/thepersonuadmire/Basic-Statistics/blob/main/StatsM1.ipynb\" target=\"_parent\"><img src=\"https://colab.research.google.com/assets/colab-badge.svg\" alt=\"Open In Colab\"/></a>"
      ]
    },
    {
      "cell_type": "markdown",
      "source": [
        "1. Explain the different types of data (qualitative and quantitative) and provide examples of each. Discuss nominal, ordinal, interval, and ratio scales."
      ],
      "metadata": {
        "id": "rL6e0cuA_d2Y"
      }
    },
    {
      "cell_type": "markdown",
      "source": [
        "\n",
        "\n",
        "1.   Qualitative Data: Non-numeric data that describes qualities or characteristics.\n",
        "\n",
        "*   Nominal Scale: Categories without a specific order (e.g., colors, gender).\n",
        "*   Ordinal Scale: Categories with a specific order (e.g., rankings, satisfaction levels).\n",
        "\n",
        "\n",
        "2.   Quantitative Data: Numeric data that can be measured.\n",
        "\n",
        "*   Interval Scale: Numeric data with meaningful intervals but no true zero (e.g., temperature in Celsius).\n",
        "*  Ratio Scale: Numeric data with meaningful intervals and a true zero (e.g., height, weight)."
      ],
      "metadata": {
        "id": "fes-rOMKBG3o"
      }
    },
    {
      "cell_type": "markdown",
      "source": [
        "2. What are the measures of central tendency, and when should you use each? Discuss the mean, median, and mode with examples and situations where each is appropriate."
      ],
      "metadata": {
        "id": "ENR_jzXgABWg"
      }
    },
    {
      "cell_type": "markdown",
      "source": [
        "*   Mean: Average of all data points. Use when data is symmetrically distributed.\n",
        "*   Median: Middle value when data is ordered. Use when data is skewed or has outliers.\n",
        "*   Mode: Most frequently occurring value. Use for categorical data or to identify the most common value.\n",
        "\n",
        "\n"
      ],
      "metadata": {
        "id": "3XNoeD8JBpiN"
      }
    },
    {
      "cell_type": "markdown",
      "source": [
        "3. Explain the concept of dispersion. How do variance and standard deviation measure the spread of data?"
      ],
      "metadata": {
        "id": "sWVZmHXMAdwT"
      }
    },
    {
      "cell_type": "markdown",
      "source": [
        "Dispersion: Measures the spread of data points in a dataset.\n",
        "\n",
        "Variance: Average of the squared differences from the mean. Indicates how much data varies.\n",
        "\n",
        "Standard Deviation: Square root of variance. Provides a measure of spread in the same units as the data."
      ],
      "metadata": {
        "id": "O40JaTdJCBu5"
      }
    },
    {
      "cell_type": "markdown",
      "source": [
        "4. What is a box plot, and what can it tell you about the distribution of data?"
      ],
      "metadata": {
        "id": "8Aw-_sacAe9c"
      }
    },
    {
      "cell_type": "markdown",
      "source": [
        "Box plot is a graphical representation of data that shows the distribution through quartiles.\n",
        "\n",
        "Itv displays minimum, Q1, median, Q3, maximum, and outliers.\n",
        "it is useful for detecting skewness and variability."
      ],
      "metadata": {
        "id": "U-YEIbzKCQm7"
      }
    },
    {
      "cell_type": "markdown",
      "source": [
        "5. Discuss the role of random sampling in making inferences about populations."
      ],
      "metadata": {
        "id": "-AmDvK7SAitP"
      }
    },
    {
      "cell_type": "markdown",
      "source": [
        "Random sampling is crucial for making inferences about a population. It ensures representative samples,reduces bias and it is the basis for statistical inference about populations.\n"
      ],
      "metadata": {
        "id": "aXX0ZI9ZC0i9"
      }
    },
    {
      "cell_type": "markdown",
      "source": [
        "6. Explain the concept of skewness and its types. How does skewness affect the interpretation of data?"
      ],
      "metadata": {
        "id": "NYjtpP5uAt0Z"
      }
    },
    {
      "cell_type": "markdown",
      "source": [
        "Skewness: Measure of the asymmetry of the probability distribution of a real-valued random variable.\n",
        "\n",
        "TYPES:\n",
        "*   Positive Skew: Tail on the right side (mean > median).\n",
        "*   Negative Skew: Tail on the left side (mean < median).\n",
        "\n",
        "IMPACT:\n",
        "It affects the interpretation of data, influencing measures of central tendency.\n",
        "\n"
      ],
      "metadata": {
        "id": "ogn6iE6PDTVB"
      }
    },
    {
      "cell_type": "markdown",
      "source": [
        "7. What is the interquartile range (IQR), and how is it used to detect outliers?"
      ],
      "metadata": {
        "id": "R04D8FESAxbF"
      }
    },
    {
      "cell_type": "markdown",
      "source": [
        "IQR: Difference between the third quartile (Q3) and the first quartile (Q1).\n",
        "\n",
        "Use: Detects outliers by identifying values that fall below Q1 - 1.5IQR or above Q3 + 1.5IQR."
      ],
      "metadata": {
        "id": "tuZm9oNhDv8F"
      }
    },
    {
      "cell_type": "markdown",
      "source": [
        "8. Discuss the conditions under which the binomial distribution is used."
      ],
      "metadata": {
        "id": "dUBQva1HA1jg"
      }
    },
    {
      "cell_type": "markdown",
      "source": [
        "Itr is used when:\n",
        "\n",
        "1) There are a fixed number of trials.\n",
        "\n",
        "2)Each trial has two possible outcomes (success or failure).\n",
        "Trials are independent.\n",
        "\n",
        "3) The probability of success is constant across trials."
      ],
      "metadata": {
        "id": "Ax9PuTeKEya4"
      }
    },
    {
      "cell_type": "markdown",
      "source": [
        "9. Explain the properties of the normal distribution and the empirical rule (68-95-99.7 rule)."
      ],
      "metadata": {
        "id": "MqkY74U5A4cf"
      }
    },
    {
      "cell_type": "markdown",
      "source": [
        "Normal Distribution: Symmetrical, bell-shaped curve characterized by mean and standard deviation.\n",
        "\n",
        "Empirical Rule (68-95-99.7 Rule):\n",
        "\n",
        "68% of data falls within one standard deviation of the mean.\n",
        "\n",
        "95% falls within two standard deviations.\n",
        "\n",
        "99.7% falls within three standard deviations."
      ],
      "metadata": {
        "id": "Hot8VKpWFEY1"
      }
    },
    {
      "cell_type": "markdown",
      "source": [
        "10. Provide a real-life example of a Poisson process and calculate the probability for a specific event."
      ],
      "metadata": {
        "id": "4Em_J3_pA7ae"
      }
    },
    {
      "cell_type": "markdown",
      "source": [
        "Example: Number of emails received in an hour.\n",
        "\n",
        "Probability Calculation:\n",
        "\n",
        "If the average rate is 5 emails/hour, the probability of receiving exactly k emails can be calculated using the Poisson formula: [ P(X = k) = \\frac{e^{-\\lambda} \\lambda^k}{k!} ] where ( \\lambda ) is the average rate."
      ],
      "metadata": {
        "id": "nrAe_2W5FRTF"
      }
    },
    {
      "cell_type": "markdown",
      "source": [
        "\n",
        "11. Explain what a random variable is and differentiate between discrete and continuous random variables."
      ],
      "metadata": {
        "id": "2nt4BFNaA9_W"
      }
    },
    {
      "cell_type": "markdown",
      "source": [
        "Random Variable: A variable whose values depend on the outcomes of a random phenomenon.\n",
        "\n",
        "Discrete Random Variable: Takes on a countable number of values (e.g., number of students in a class).\n",
        "\n",
        "Continuous Random Variable: Takes on an infinite number of values within a range (e.g., height of students)."
      ],
      "metadata": {
        "id": "RtLFAyKAFgNQ"
      }
    },
    {
      "cell_type": "markdown",
      "source": [
        "12. Provide an example dataset, calculate both covariance and correlation, and interpret the results."
      ],
      "metadata": {
        "id": "7pyhizPrBAmf"
      }
    },
    {
      "cell_type": "markdown",
      "source": [
        "Dataset Example:\n",
        "\n",
        "X: [1, 2, 3, 4, 5]\n",
        "\n",
        "Y: [2, 4, 6, 8, 10]\n",
        "\n",
        "Calculations:\n",
        "\n",
        "Covariance: Measures how two variables change together.\n",
        "\n",
        "Correlation: Standardized measure of the relationship between two variables (ranges from -1 to 1).\n",
        "\n",
        "Interpretation: A positive correlation indicates that as one variable increases, the other does as well."
      ],
      "metadata": {
        "id": "Z7qx9bXCFn4c"
      }
    }
  ]
}